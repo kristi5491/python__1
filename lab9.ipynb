{
 "cells": [
  {
   "cell_type": "markdown",
   "id": "8a9913bf",
   "metadata": {},
   "source": [
    "\n",
    "# Лабораторна робота: Аналіз даних про втрати військової техніки та особового складу\n",
    "\n",
    "## Мета:\n",
    "Вивчити базові прийоми аналізу даних за допомогою pandas та візуалізації даних з matplotlib на реальних даних.\n",
    "\n",
    "## Завдання:\n",
    "1. Попередня обробка даних.\n",
    "2. Аналіз даних.\n",
    "3. Візуалізація даних.\n",
    "\n",
    "### Дані:\n",
    "- `russia_losses_equipment.csv` - дані про втрати техніки.\n",
    "- `russia_losses_equipment_correction.csv` - дані про корекції втрат техніки.\n",
    "- `russia_losses_personnel.csv` - дані про втрати особового складу.\n",
    "\n",
    "### Попередня обробка даних:\n",
    "- Завантажте дані за допомогою pandas.\n",
    "- Очистіть дані від відсутніх значень та дублікатів.\n",
    "- Виконайте перетворення даних.\n",
    "\n",
    "### Аналіз даних:\n",
    "- Розрахуйте основні статистичні показники.\n",
    "- Використайте групування для аналізу підгруп у даних.\n",
    "- Відсортуйте даних.\n",
    "\n",
    "### Візуалізація даних:\n",
    "- Візуалізуйте дані за допомогою matplotlib.\n"
   ]
  },
  {
   "cell_type": "code",
   "execution_count": null,
   "id": "00000ad1",
   "metadata": {},
   "outputs": [],
   "source": [
    "\n",
    "    # Завантаження та попередня обробка даних\n",
    "    import pandas as pd\n",
    "\n",
    "    # Приклад завантаження даних\n",
    "    # equipment_df = pd.read_csv('russia_losses_equipment.csv')\n",
    "    # corrections_df = pd.read_csv('russia_losses_equipment_correction.csv')\n",
    "    # personnel_df = pd.read_csv('russia_losses_personnel.csv')\n",
    "    "
   ]
  },
  {
   "cell_type": "code",
   "execution_count": null,
   "id": "b87476c1",
   "metadata": {},
   "outputs": [],
   "source": [
    "\n",
    "    # Аналіз даних\n",
    "    # Приклад розрахунку основних статистичних показників\n",
    "    # equipment_df.describe()\n",
    "    "
   ]
  },
  {
   "cell_type": "code",
   "execution_count": null,
   "id": "7d3e9344",
   "metadata": {},
   "outputs": [],
   "source": [
    "\n",
    "    # Візуалізація даних\n",
    "    import matplotlib.pyplot as plt\n",
    "\n",
    "    # Приклад візуалізації даних\n",
    "    # plt.figure(figsize=(10,5))\n",
    "    # plt.plot(equipment_df['date'], equipment_df['tanks'])\n",
    "    # plt.xlabel('Дата')\n",
    "    # plt.ylabel('Кількість втраченої техніки')\n",
    "    # plt.title('Динаміка втрат танків')\n",
    "    # plt.show()\n",
    "    "
   ]
  }
 ],
 "metadata": {
  "language_info": {
   "name": "python"
  }
 },
 "nbformat": 4,
 "nbformat_minor": 5
}
