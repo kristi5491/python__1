{
 "cells": [
  {
   "cell_type": "code",
   "execution_count": 8,
   "metadata": {},
   "outputs": [],
   "source": [
    "import pandas as pd\n",
    "\n",
    "import matplotlib.pyplot as plt\n",
    "\n",
    "equipment_df = pd.read_csv('russia_losses_equipment.csv')\n",
    "corrections_df = pd.read_csv('russia_losses_equipment_correction.csv')\n",
    "personnel_df = pd.read_csv('russia_losses_personnel.csv')\n",
    "\n",
    "equipment_df.drop_duplicates(inplace=True)\n",
    "corrections_df.drop_duplicates(inplace=True)\n",
    "personnel_df.drop_duplicates(inplace=True)\n",
    "\n",
    "\n",
    "equipment_df = equipment_df.fillna(0)\n",
    "corrections_df = corrections_df.fillna(0)\n",
    "personnel_df = personnel_df.fillna(0)\n",
    "\n",
    "equipment_df = equipment_df.drop('greatest losses direction', axis=1)\n",
    "\n"
   ]
  },
  {
   "cell_type": "code",
   "execution_count": 9,
   "metadata": {},
   "outputs": [],
   "source": [
    "merged_df = pd.merge(equipment_df,corrections_df, how='inner', on='date')"
   ]
  },
  {
   "cell_type": "code",
   "execution_count": 10,
   "metadata": {},
   "outputs": [
    {
     "data": {
      "text/plain": [
       "date                       2022-02-25\n",
       "day                                 2\n",
       "aircraft                           10\n",
       "helicopter                          7\n",
       "tank                               80\n",
       "APC                               516\n",
       "field artillery                    49\n",
       "MRL                                 4\n",
       "military auto                     0.0\n",
       "fuel tank                         0.0\n",
       "drone                               0\n",
       "naval ship                          2\n",
       "anti-aircraft warfare               0\n",
       "special equipment                 0.0\n",
       "mobile SRBM system                0.0\n",
       "vehicles and fuel tanks           0.0\n",
       "cruise missiles                   0.0\n",
       "submarines                        0.0\n",
       "dtype: object"
      ]
     },
     "metadata": {},
     "output_type": "display_data"
    },
    {
     "data": {
      "text/plain": [
       "date                       2023-11-05\n",
       "day                               620\n",
       "aircraft                          322\n",
       "helicopter                        324\n",
       "tank                             5284\n",
       "APC                              9953\n",
       "field artillery                  7375\n",
       "MRL                               867\n",
       "military auto                  1701.0\n",
       "fuel tank                        76.0\n",
       "drone                            5534\n",
       "naval ship                         20\n",
       "anti-aircraft warfare             570\n",
       "special equipment              1047.0\n",
       "mobile SRBM system                4.0\n",
       "vehicles and fuel tanks        9730.0\n",
       "cruise missiles                1554.0\n",
       "submarines                        1.0\n",
       "dtype: object"
      ]
     },
     "metadata": {},
     "output_type": "display_data"
    },
    {
     "data": {
      "text/plain": [
       "date                       619\n",
       "day                        619\n",
       "aircraft                   154\n",
       "helicopter                 166\n",
       "tank                       601\n",
       "APC                        611\n",
       "field artillery            598\n",
       "MRL                        323\n",
       "military auto               65\n",
       "fuel tank                    7\n",
       "drone                      549\n",
       "naval ship                  17\n",
       "anti-aircraft warfare      299\n",
       "special equipment          362\n",
       "mobile SRBM system           3\n",
       "vehicles and fuel tanks    549\n",
       "cruise missiles            154\n",
       "submarines                   2\n",
       "dtype: int64"
      ]
     },
     "metadata": {},
     "output_type": "display_data"
    }
   ],
   "source": [
    "#основіні аналітичні дані\n",
    "\n",
    "equipment_df.describe()\n",
    "unique_counts_equipment  = equipment_df.nunique()\n",
    "min_value_equip = equipment_df.min()\n",
    "max_value_equip = equipment_df.max()\n",
    "display(min_value_equip, max_value_equip, unique_counts_equipment)"
   ]
  },
  {
   "cell_type": "code",
   "execution_count": 11,
   "metadata": {},
   "outputs": [
    {
     "data": {
      "image/png": "[encoded data removed]",
      "text/plain": [
       "<Figure size 1000x500 with 1 Axes>"
      ]
     },
     "metadata": {},
     "output_type": "display_data"
    }
   ],
   "source": [
    "# grooped_df = equipment_df.groupby(['data','aircraft']).sum().reset_index()\n",
    "\n",
    "# plt.figure(figsize=(10, 6))\n",
    "# for aircraft , data in grooped_df.groupby('aircraft'):\n",
    "#     plt.bar(data['data'], data[''])\n",
    "\n",
    "plt.figure(figsize=(10,5))\n",
    "plt.plot(equipment_df['date'], equipment_df['aircraft'])\n",
    "plt.xlabel('Дата')\n",
    "plt.ylabel('Кількість втраченої техніки')\n",
    "plt.title('Динаміка втрат літаків')\n",
    "plt.show()"
   ]
  }
 ],
 "metadata": {
  "kernelspec": {
   "display_name": "Python 3",
   "language": "python",
   "name": "python3"
  },
  "language_info": {
   "codemirror_mode": {
    "name": "ipython",
    "version": 3
   },
   "file_extension": ".py",
   "mimetype": "text/x-python",
   "name": "python",
   "nbconvert_exporter": "python",
   "pygments_lexer": "ipython3",
   "version": "3.11.6"
  },
  "orig_nbformat": 4
 },
 "nbformat": 4,
 "nbformat_minor": 2
}
