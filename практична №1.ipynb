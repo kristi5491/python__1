{
 "cells": [
  {
   "cell_type": "code",
   "execution_count": null,
   "metadata": {},
   "outputs": [],
   "source": []
  },
  {
   "cell_type": "markdown",
   "metadata": {},
   "source": [
    "## Практичне завдання №1\n",
    "\n",
    "На основі вивченого матеріалу по темі \"умовні конструкції\" необхідно реалізувати наступну аплікацію.\n",
    "\n",
    "### Аплікація\n",
    "\n",
    "Бізнес вимога: Замовник прийшов до вас із задачею - треба побудувати міні гру з варіативними виборами персонажа. Клієнт взагалі займається розробкою ігор, але їм зараз треба зробити швидко сценарій для невеличкої презентації, щоби показати загальний концепт і персонажів гри. Таким чином вони вирішили зробити невелику маркетингову компанію для клієнтів. За сценарієм клієнт, який попадає на сайт виробника має пройти невелику квест-гру, в якій він відповідатиме на запитання і по мірі проходження цих запитань він має досягати різних результатів гри. Має бути як мінімум 2-3 кінцівки.\n",
    "\n",
    "#### Деталі\n",
    "\n",
    "Користувачу мають задаватись питання один за одним. Питання, які будуть розвивати хід гри. Так, наприклад, гра має початися на першому рівні, на якому користувачу треба перемогти своїх ворогів.\n"
   ]
  },
  {
   "cell_type": "code",
   "execution_count": null,
   "metadata": {},
   "outputs": [],
   "source": [
    "\n",
    "import time\n",
    "import random\n",
    "# ця функція додасть інтерактиву в ваш чат і зробить його більш схожим на реальний.\n",
    "\n",
    "\n",
    "def delay_print(s):\n",
    "    for c in s:\n",
    "        print(c, end='')\n",
    "        time.sleep(random.random() * 0.01)\n",
    "    print()\n"
   ]
  },
  {
   "cell_type": "code",
   "execution_count": null,
   "metadata": {},
   "outputs": [
    {
     "name": "stdout",
     "output_type": "stream",
     "text": [
      "Вітаю, duda! Тобі належить вибрати свій шлях у невеликій грі, в результаті якої ти дізнаєшся який сік компанії Січко™ тобі підходить найбільше!\n"
     ]
    }
   ],
   "source": [
    "character_name = input(\"Вітаю! Введіть ім'я вашого персонажа.\")\n",
    "delay_print(\"Вітаю, \" + character_name +\n",
    "            \"! Тобі належить вибрати свій шлях у невеликій грі, в результаті якої ти дізнаєшся який сік компанії Січко™ тобі підходить найбільше!\")\n"
   ]
  },
  {
   "cell_type": "code",
   "execution_count": null,
   "metadata": {},
   "outputs": [],
   "source": [
    "# стати персонажа та ворогів\n",
    "answers_array = []\n"
   ]
  },
  {
   "cell_type": "code",
   "execution_count": null,
   "metadata": {},
   "outputs": [
    {
     "name": "stdout",
     "output_type": "stream",
     "text": [
      "Вітаю на першому рівні! До тебе підходить невідоме створіння, схоже на гнома, і каже:\n",
      "'Привіт, незнайомцю. Якщо ти хочеш пройти, то тобі потрібно відгадати загадку. Якщо ти не хочеш, то я тебе вб'ю.'\n",
      "Варіанти відповідей:\n",
      "1) 'Так, я хочу відгадати загадку.'\n",
      "2) 'Ні, я не хочу відгадувати загадку. (почати драку)'\n",
      "Гном: 'Добре, тоді почнемо. Якщо ти відгадаєш, то я тобі дам піти.'\n"
     ]
    }
   ],
   "source": [
    "# загальні дані про гілку діалогу\n",
    "quest_index = 0\n",
    "\n",
    "delay_print(\"Вітаю на першому рівні! До тебе підходить невідоме створіння, схоже на гнома, і каже:\\n'Привіт, незнайомцю. Якщо ти хочеш пройти, то тобі потрібно відгадати загадку. Якщо ти не хочеш, то я тебе вб'ю.'\")\n",
    "\n",
    "print(\"Варіанти відповідей:\\n1) 'Так, я хочу відгадати загадку.'\\n2) 'Ні, я не хочу відгадувати загадку. (почати драку)'\")\n",
    "\n",
    "answer = input(\"Введіть відповідь: \")\n",
    "answers_array.append(answer)\n",
    "\n",
    "match answer:\n",
    "    case \"1\": delay_print(\"Гном: 'Добре, тоді почнемо. Якщо ти відгадаєш, то я тобі дам піти.'\")\n",
    "    case \"2\": delay_print(\"Гном: 'Ти вирішив битися? Тоді почнемо.'\")\n",
    "    case _: delay_print(\"Гном: 'Я не розумію тебе. Якщо ти не зможеш відповісти, то я тебе вб'ю.'\")\n"
   ]
  },
  {
   "cell_type": "code",
   "execution_count": null,
   "metadata": {},
   "outputs": [
    {
     "name": "stdout",
     "output_type": "stream",
     "text": [
      "Гном: 'У мами Івана було три сини. Першого звали Петро, другого – Василь. Як звали третього сина?'\n",
      "Варіанти відповідей:\n",
      "1) 'Іван'\n",
      "2) 'Петро'\n",
      "3) 'Василь'\n"
     ]
    }
   ],
   "source": [
    "# загальні дані про гілку діалогу\n",
    "quest_index = 1\n",
    "previous_answer = answers_array[quest_index - 1]\n",
    "\n",
    "match previous_answer:\n",
    "    case \"1\": \n",
    "        delay_print(\"Гном: 'У мами Івана було три сини. Першого звали Петро, другого – Василь. Як звали третього сина?'\")\n",
    "        print(\"Варіанти відповідей:\\n1) 'Іван'\\n2) 'Петро'\\n3) 'Василь'\")\n",
    "        answer = input(\"Введіть відповідь: \")\n",
    "    case '2':\n",
    "        print(\"*Гном розмахується кулаком і ударяє вас по коліну.*\")\n",
    "        delay_print(\"Гном: 'Н-Н-Н-А-А-А!!!'\")\n",
    "        print(\"*Ви відчуваєте сильний біль в коліні але він не надто сильний*\\n1. *пнути гнома з усієї сили ногою*\\n2. Будь ласка!!! Не бий! Я відповім на твою загадку!!!\")\n",
    "        answer = input(\"Введіть відповідь: \")\n",
    "    case _: delay_print(\"Гном: 'Шо ти там бормочеш??!!'\")\n"
   ]
  },
  {
   "cell_type": "code",
   "execution_count": null,
   "metadata": {},
   "outputs": [
    {
     "ename": "IndexError",
     "evalue": "list index out of range",
     "output_type": "error",
     "traceback": [
      "\u001b[1;31m---------------------------------------------------------------------------\u001b[0m",
      "\u001b[1;31mIndexError\u001b[0m                                Traceback (most recent call last)",
      "\u001b[1;32mc:\\Users\\User\\OneDrive\\курс python\\практична №1.ipynb Cell 8\u001b[0m line \u001b[0;36m<cell line: 3>\u001b[1;34m()\u001b[0m\n\u001b[0;32m      <a href='vscode-notebook-cell:/c%3A/Users/User/OneDrive/%D0%BA%D1%83%D1%80%D1%81%20python/%D0%BF%D1%80%D0%B0%D0%BA%D1%82%D0%B8%D1%87%D0%BD%D0%B0%20%E2%84%961.ipynb#X10sZmlsZQ%3D%3D?line=0'>1</a>\u001b[0m \u001b[39m# загальні дані про гілку діалогу\u001b[39;00m\n\u001b[0;32m      <a href='vscode-notebook-cell:/c%3A/Users/User/OneDrive/%D0%BA%D1%83%D1%80%D1%81%20python/%D0%BF%D1%80%D0%B0%D0%BA%D1%82%D0%B8%D1%87%D0%BD%D0%B0%20%E2%84%961.ipynb#X10sZmlsZQ%3D%3D?line=1'>2</a>\u001b[0m quest_index \u001b[39m=\u001b[39m \u001b[39m2\u001b[39m\n\u001b[1;32m----> <a href='vscode-notebook-cell:/c%3A/Users/User/OneDrive/%D0%BA%D1%83%D1%80%D1%81%20python/%D0%BF%D1%80%D0%B0%D0%BA%D1%82%D0%B8%D1%87%D0%BD%D0%B0%20%E2%84%961.ipynb#X10sZmlsZQ%3D%3D?line=2'>3</a>\u001b[0m previous_answer \u001b[39m=\u001b[39m answers_array[quest_index \u001b[39m-\u001b[39;49m \u001b[39m1\u001b[39;49m]\n",
      "\u001b[1;31mIndexError\u001b[0m: list index out of range"
     ]
    }
   ],
   "source": [
    "# загальні дані про гілку діалогу\n",
    "quest_index = 2\n",
    "previous_answer = answers_array[quest_index - 1]"
   ]
  }
 ],
 "metadata": {
  "kernelspec": {
   "display_name": "Python 3",
   "language": "python",
   "name": "python3"
  },
  "language_info": {
   "codemirror_mode": {
    "name": "ipython",
    "version": 3
   },
   "file_extension": ".py",
   "mimetype": "text/x-python",
   "name": "python",
   "nbconvert_exporter": "python",
   "pygments_lexer": "ipython3",
   "version": "3.10.5"
  }
 },
 "nbformat": 4,
 "nbformat_minor": 2
}
